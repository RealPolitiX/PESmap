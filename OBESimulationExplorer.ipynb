{
 "cells": [
  {
   "cell_type": "markdown",
   "metadata": {},
   "source": [
    "## OBE simulation data explorer"
   ]
  },
  {
   "cell_type": "code",
   "execution_count": 1,
   "metadata": {
    "collapsed": true
   },
   "outputs": [],
   "source": [
    "import scipy.io as sio\n",
    "import glob2\n",
    "import numpy as np\n",
    "from matplotlib import rcParams\n",
    "import matplotlib.pyplot as plt\n",
    "import fproc as fp\n",
    "%matplotlib inline"
   ]
  },
  {
   "cell_type": "code",
   "execution_count": 2,
   "metadata": {},
   "outputs": [
    {
     "data": {
      "text/plain": [
       "(61L, 81L, 9L, 8L, 7L, 8L)"
      ]
     },
     "execution_count": 2,
     "metadata": {},
     "output_type": "execute_result"
    }
   ],
   "source": [
    "foldr = r'R:\\My Code\\OBESim_Apu'\n",
    "Apus, matlist = fp.SortNamesBy(glob2.glob(foldr + r'\\*0.mat'), 'Apu=(\\d+)')\n",
    "\n",
    "# Combine simulations at different pump amplitudes\n",
    "dimvec = np.hstack((sio.loadmat(matlist[0])['PES'].shape, len(matlist)))\n",
    "matstack = np.zeros(dimvec)\n",
    "for i, mat in enumerate(matlist):\n",
    "    matstack[:,:,:,:,:,i] = sio.loadmat(mat)['PES']\n",
    "matstack.shape"
   ]
  },
  {
   "cell_type": "code",
   "execution_count": 26,
   "metadata": {
    "collapsed": true
   },
   "outputs": [],
   "source": [
    "import ipywidgets as wg\n",
    "from IPython.display import display\n",
    "from ipywidgets import interact\n",
    "\n",
    "# Pump amplitude (A_pu) slider\n",
    "Slider_Apu = wg.IntSlider(\n",
    "    value=11,\n",
    "    min=1,\n",
    "    max=15,\n",
    "    step=2,\n",
    "    description=r'\\(A_{pu}\\)'+' (a.u.)',\n",
    "    disabled=False,\n",
    "    continuous_update=False,\n",
    "    orientation='horizontal',\n",
    "    readout=True,\n",
    "    readout_format='i',\n",
    "    slider_color='white'\n",
    ")\n",
    "Slider_Apu.style.handle_color = 'lightblue'\n",
    "\n",
    "# Pump detuning (Del_a) slider\n",
    "Slider_Dela = wg.IntSlider(\n",
    "    value=-10,\n",
    "    min=-10,\n",
    "    max=6,\n",
    "    step=2,\n",
    "    description=r'\\(\\Delta_{a} (\\times \\Delta_E) \\)',\n",
    "    disabled=False,\n",
    "    continuous_update=False,\n",
    "    orientation='horizontal',\n",
    "    readout=True,\n",
    "    readout_format='i',\n",
    "    slider_color='white'\n",
    ")\n",
    "Slider_Dela.style.handle_color = 'lightblue'\n",
    "\n",
    "# Intermediate state relaxation rate (Gamma_nn) slider\n",
    "Slider_Gnn = wg.IntSlider(\n",
    "    value=5,\n",
    "    min=5,\n",
    "    max=33,\n",
    "    step=4,\n",
    "    description=r'\\(\\Gamma_{nn}^{-1}\\)'+' (fs)',\n",
    "    disabled=False,\n",
    "    continuous_update=False,\n",
    "    orientation='horizontal',\n",
    "    readout=True,\n",
    "    readout_format='i',\n",
    "    slider_color='white'\n",
    ")\n",
    "Slider_Gnn.style.handle_color = 'lightblue'\n",
    "\n",
    "# Intermediate state dephasing rate (Gamma_in) slider\n",
    "Slider_Gin = wg.IntSlider(\n",
    "    value=5,\n",
    "    min=5,\n",
    "    max=95,\n",
    "    step=15,\n",
    "    description=r'\\(\\Gamma_{in}^{-1}\\)'+' (fs)',\n",
    "    disabled=False,\n",
    "    continuous_update=False,\n",
    "    orientation='horizontal',\n",
    "    readout=True,\n",
    "    readout_format='i',\n",
    "    slider_color='white'\n",
    ")\n",
    "Slider_Gin.style.handle_color = 'lightblue'\n",
    "    \n",
    "def browseImgStack(imgmat):\n",
    "\n",
    "    tdlay = np.arange(-50e-15, 101e-15, 2.5e-15)/1e-15\n",
    "    Delb = np.arange(-20, 20.1, 0.5)\n",
    "    Dela_vec = np.arange(-10, 7, 2)\n",
    "    Gin_vec = np.arange(5, 96, 15)\n",
    "    Gnn_vec = np.arange(5,34,4)\n",
    "    Apu_vec = Apus\n",
    "    \n",
    "    def plot_image2d(Dela, Gnn, Gin, Apu):\n",
    "        fig, ax = plt.subplots(1, 1)\n",
    "        nDela = np.where(Dela_vec == Slider_Dela.value)[0][0]\n",
    "        nGnn = np.where(Gnn_vec == Slider_Gnn.value)[0][0]\n",
    "        nGin = np.where(Gin_vec == Slider_Gin.value)[0][0]\n",
    "        nApu = np.where(Apu_vec == Slider_Apu.value)[0][0]\n",
    "        x, y = np.meshgrid(tdlay, Delb)\n",
    "        plt.pcolormesh(x, y, imgmat[:,:,nDela,nGnn,nGin,nApu].T, cmap='terrain')\n",
    "        ax.set_aspect('auto')\n",
    "        ax.set_xlim([min(tdlay), max(tdlay)])\n",
    "        ax.set_ylim([min(Delb), max(Delb)])\n",
    "        ax.set_xlabel('Probe delay (fs)', fontsize=15)\n",
    "        ax.set_ylabel('Probe energy detuning', fontsize=15)\n",
    "        plt.tight_layout()\n",
    "        plt.show()\n",
    "\n",
    "    interact(plot_image2d, Dela=Slider_Dela, Gnn=Slider_Gnn, Gin=Slider_Gin, Apu=Slider_Apu)"
   ]
  },
  {
   "cell_type": "code",
   "execution_count": 27,
   "metadata": {},
   "outputs": [
    {
     "data": {
      "application/vnd.jupyter.widget-view+json": {
       "model_id": "133c0b0767d7459eba619557dcc25333"
      }
     },
     "metadata": {},
     "output_type": "display_data"
    }
   ],
   "source": [
    "browseImgStack(matstack)"
   ]
  },
  {
   "cell_type": "code",
   "execution_count": null,
   "metadata": {
    "collapsed": true
   },
   "outputs": [],
   "source": []
  }
 ],
 "metadata": {
  "kernelspec": {
   "display_name": "Python 2",
   "language": "python",
   "name": "python2"
  },
  "language_info": {
   "codemirror_mode": {
    "name": "ipython",
    "version": 2
   },
   "file_extension": ".py",
   "mimetype": "text/x-python",
   "name": "python",
   "nbconvert_exporter": "python",
   "pygments_lexer": "ipython2",
   "version": "2.7.13"
  }
 },
 "nbformat": 4,
 "nbformat_minor": 2
}
